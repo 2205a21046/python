{
  "nbformat": 4,
  "nbformat_minor": 0,
  "metadata": {
    "colab": {
      "provenance": [],
      "authorship_tag": "ABX9TyNjBye/si6oismJH5qiZlJZ",
      "include_colab_link": true
    },
    "kernelspec": {
      "name": "python3",
      "display_name": "Python 3"
    },
    "language_info": {
      "name": "python"
    }
  },
  "cells": [
    {
      "cell_type": "markdown",
      "metadata": {
        "id": "view-in-github",
        "colab_type": "text"
      },
      "source": [
        "<a href=\"https://colab.research.google.com/github/2205a21046/python/blob/main/2205a21046_ass8.ipynb\" target=\"_parent\"><img src=\"https://colab.research.google.com/assets/colab-badge.svg\" alt=\"Open In Colab\"/></a>"
      ]
    },
    {
      "cell_type": "code",
      "execution_count": 2,
      "metadata": {
        "colab": {
          "base_uri": "https://localhost:8080/"
        },
        "id": "CuvjLiajUpaM",
        "outputId": "2f1bb84c-5506-42ec-ddc3-c21d16d9a150"
      },
      "outputs": [
        {
          "output_type": "stream",
          "name": "stdout",
          "text": [
            "Qualification= ['venkat', 'B.Tech', 2006, 'M.E.', 2011, 'Ph.D', 2018]\n",
            "Experience= ['SSCE', '2007', 'Infosys', '2011', 'AITAM', '2013', 'SREC', '2018']\n",
            "CA= ['venkat', 'B.Tech', 2006, 'M.E.', 2011, 'Ph.D', 2018, 'SSCE', '2007', 'Infosys', '2011', 'AITAM', '2013', 'SREC', '2018']\n"
          ]
        }
      ],
      "source": [
        "Qualification=['venkat', 'B.Tech', 2006, 'M.E.', 2011, 'Ph.D', 2018]\n",
        "Experience=['SSCE', '2007', 'Infosys', '2011', 'AITAM', '2013', 'SREC', '2018']\n",
        "CA=Qualification + Experience\n",
        "print(\"Qualification=\",Qualification)\n",
        "print(\"Experience=\",Experience)\n",
        "print(\"CA=\",CA)"
      ]
    },
    {
      "cell_type": "code",
      "source": [
        "Grade=['A','A','B','C','A']\n",
        "print(\"How many peoples got a grade\",Grade.count('A'))"
      ],
      "metadata": {
        "colab": {
          "base_uri": "https://localhost:8080/"
        },
        "id": "l3-TBeeSVSE2",
        "outputId": "17c5897a-2592-4510-b952-bd3eadb617b7"
      },
      "execution_count": 3,
      "outputs": [
        {
          "output_type": "stream",
          "name": "stdout",
          "text": [
            "How many peoples got a grade 3\n"
          ]
        }
      ]
    },
    {
      "cell_type": "code",
      "source": [
        "list=['venkat', '1985']\n",
        "print('Venkat birth year', list[1])\n",
        "list[0]='dev'\n",
        "list[1]=2017\n",
        "print('dev birth year',list[1])"
      ],
      "metadata": {
        "colab": {
          "base_uri": "https://localhost:8080/"
        },
        "id": "FU8KRgEuVXPD",
        "outputId": "6c00b5f6-c64b-4ea6-b261-64d648cf9853"
      },
      "execution_count": 5,
      "outputs": [
        {
          "output_type": "stream",
          "name": "stdout",
          "text": [
            "Venkat birth year 1985\n",
            "dev birth year 2017\n"
          ]
        }
      ]
    },
    {
      "cell_type": "code",
      "source": [
        "list=['venkat', '1985']\n",
        "print(list)\n",
        "del list[1]\n",
        "print(list)"
      ],
      "metadata": {
        "colab": {
          "base_uri": "https://localhost:8080/"
        },
        "id": "pewUbg7lVuml",
        "outputId": "5b02a6a9-0df1-4fc3-9690-3fe4d0bdfab2"
      },
      "execution_count": 6,
      "outputs": [
        {
          "output_type": "stream",
          "name": "stdout",
          "text": [
            "['venkat', '1985']\n",
            "['venkat']\n"
          ]
        }
      ]
    },
    {
      "cell_type": "code",
      "source": [
        "Grade=['A','A','B','C','A','B']\n",
        "print(\"lowest index for grade B\",Grade.index(\"B\"))"
      ],
      "metadata": {
        "colab": {
          "base_uri": "https://localhost:8080/"
        },
        "id": "LH9D6Ul1VzuE",
        "outputId": "26878abd-42d0-47df-c69e-207930aa69a2"
      },
      "execution_count": 7,
      "outputs": [
        {
          "output_type": "stream",
          "name": "stdout",
          "text": [
            "lowest index for grade B 2\n"
          ]
        }
      ]
    },
    {
      "cell_type": "code",
      "source": [
        "Qualification = ['venkat', 'B.Tech', 2006, 'Μ.Ε', 2011, 'Ph.D', 2018]\n",
        "print(Qualification)\n",
        "print(Qualification[0])\n",
        "print(Qualification[1:])\n",
        "print(Qualification[1:5])\n",
        "print(Qualification *2)\n",
        "print(Qualification[::-1])"
      ],
      "metadata": {
        "colab": {
          "base_uri": "https://localhost:8080/"
        },
        "id": "GexV1N6-WCD_",
        "outputId": "3d790ffa-dbae-4330-d10c-24f63bb12442"
      },
      "execution_count": 8,
      "outputs": [
        {
          "output_type": "stream",
          "name": "stdout",
          "text": [
            "['venkat', 'B.Tech', 2006, 'Μ.Ε', 2011, 'Ph.D', 2018]\n",
            "venkat\n",
            "['B.Tech', 2006, 'Μ.Ε', 2011, 'Ph.D', 2018]\n",
            "['B.Tech', 2006, 'Μ.Ε', 2011]\n",
            "['venkat', 'B.Tech', 2006, 'Μ.Ε', 2011, 'Ph.D', 2018, 'venkat', 'B.Tech', 2006, 'Μ.Ε', 2011, 'Ph.D', 2018]\n",
            "[2018, 'Ph.D', 2011, 'Μ.Ε', 2006, 'B.Tech', 'venkat']\n"
          ]
        }
      ]
    },
    {
      "cell_type": "code",
      "source": [
        "Name=['Ramana', 'Thanmai', 'Dev']\n",
        "DOB=[1985,2014,2017]\n",
        "print('Number of peoples',len(Name))\n",
        "print('==================')\n",
        "Details=Name+DOB\n",
        "print('Biodata', Details)\n",
        "print('===================')\n",
        "Repetition=Name*2\n",
        "print('Repetition', Repetition)\n",
        "print('====================')\n",
        "for x in Name:\n",
        "  print(x)\n",
        "print(\"=================\")"
      ],
      "metadata": {
        "colab": {
          "base_uri": "https://localhost:8080/"
        },
        "id": "F-s2QPwHWHoZ",
        "outputId": "a9e17734-81e3-4094-8246-61c65fa634de"
      },
      "execution_count": 9,
      "outputs": [
        {
          "output_type": "stream",
          "name": "stdout",
          "text": [
            "Number of peoples 3\n",
            "==================\n",
            "Biodata ['Ramana', 'Thanmai', 'Dev', 1985, 2014, 2017]\n",
            "===================\n",
            "Repetition ['Ramana', 'Thanmai', 'Dev', 'Ramana', 'Thanmai', 'Dev']\n",
            "====================\n",
            "Ramana\n",
            "Thanmai\n",
            "Dev\n",
            "=================\n"
          ]
        }
      ]
    },
    {
      "cell_type": "code",
      "source": [
        "Family=[\"Venkat\", \"Swetha\"]\n",
        "print('Family members', Family)\n",
        "atuple=(\"Dev\", \"Thanmai\")\n",
        "Family.extend(atuple)\n",
        "print('Family members', Family)"
      ],
      "metadata": {
        "colab": {
          "base_uri": "https://localhost:8080/"
        },
        "id": "p8hxJNjaWj0v",
        "outputId": "c683666f-bacd-447f-ac0a-1ef917ed1cf2"
      },
      "execution_count": 10,
      "outputs": [
        {
          "output_type": "stream",
          "name": "stdout",
          "text": [
            "Family members ['Venkat', 'Swetha']\n",
            "Family members ['Venkat', 'Swetha', 'Dev', 'Thanmai']\n"
          ]
        }
      ]
    },
    {
      "cell_type": "code",
      "source": [
        "Name =['Ramana', 'Thanmal', 'Dev']\n",
        "DOB=[1985,2014,2017]\n",
        "print('Name with maximum charecters', max(Name))\n",
        "print(\"Younger person DOB\", max(DOB))\n",
        "print(\"Name with minimum charecters\", min(Name))\n",
        "print('Older person DOB',min(DOB))"
      ],
      "metadata": {
        "colab": {
          "base_uri": "https://localhost:8080/"
        },
        "id": "BrnaKLgaWtDH",
        "outputId": "a30b7e68-e3e1-4d79-d8ac-8bec0e47dd65"
      },
      "execution_count": 12,
      "outputs": [
        {
          "output_type": "stream",
          "name": "stdout",
          "text": [
            "Name with maximum charecters Thanmal\n",
            "Younger person DOB 2017\n",
            "Name with minimum charecters Dev\n",
            "Older person DOB 1985\n"
          ]
        }
      ]
    },
    {
      "cell_type": "code",
      "source": [
        "Family=[\"Ramana\", \"Swetha\", \"Thanmai\", \"Dev\"]\n",
        "print(\"Family members\", Family)\n",
        "Family.reverse()\n",
        "print(\"Family members\", Family)"
      ],
      "metadata": {
        "colab": {
          "base_uri": "https://localhost:8080/"
        },
        "id": "0g9GA4c5XEMw",
        "outputId": "fcb8a4d4-4a1f-44ff-9286-174a19fa4cfa"
      },
      "execution_count": 13,
      "outputs": [
        {
          "output_type": "stream",
          "name": "stdout",
          "text": [
            "Family members ['Ramana', 'Swetha', 'Thanmai', 'Dev']\n",
            "Family members ['Dev', 'Thanmai', 'Swetha', 'Ramana']\n"
          ]
        }
      ]
    },
    {
      "cell_type": "code",
      "source": [
        "Family=[\"Ramana\",\"Thanmai\", \"Dev\"]\n",
        "print(\"Family members\", Family)\n",
        "Family.insert(1,\"swetha\")\n",
        "print(\"Family members\", Family)"
      ],
      "metadata": {
        "colab": {
          "base_uri": "https://localhost:8080/"
        },
        "id": "_Bw2K-trXNcX",
        "outputId": "833fa460-4554-45ab-fcf7-0f1028cb7cc8"
      },
      "execution_count": 14,
      "outputs": [
        {
          "output_type": "stream",
          "name": "stdout",
          "text": [
            "Family members ['Ramana', 'Thanmai', 'Dev']\n",
            "Family members ['Ramana', 'swetha', 'Thanmai', 'Dev']\n"
          ]
        }
      ]
    },
    {
      "cell_type": "code",
      "source": [
        "Family=[\"Ramana\", \"Swetha\", \"Thanmai\", \"Dev\"]\n",
        "print(\"Family members\", Family)\n",
        "Family.pop()\n",
        "print(\"Family members\", Family)\n",
        "Family.pop(2)\n",
        "print('Family members', Family)"
      ],
      "metadata": {
        "colab": {
          "base_uri": "https://localhost:8080/"
        },
        "id": "mZMVbnVuXYAy",
        "outputId": "a66a33ff-d552-4a96-d3f8-3484a1fe7a16"
      },
      "execution_count": 15,
      "outputs": [
        {
          "output_type": "stream",
          "name": "stdout",
          "text": [
            "Family members ['Ramana', 'Swetha', 'Thanmai', 'Dev']\n",
            "Family members ['Ramana', 'Swetha', 'Thanmai']\n",
            "Family members ['Ramana', 'Swetha']\n"
          ]
        }
      ]
    },
    {
      "cell_type": "code",
      "source": [
        "tuple=('venkat','B.tech',2006)\n",
        "print(tuple)\n",
        "print(tuple[0])\n",
        "print(tuple[0:2])\n",
        "print(tuple[0:])\n",
        "print(tuple[::-1])\n",
        "print(tuple[2:0:-1])"
      ],
      "metadata": {
        "colab": {
          "base_uri": "https://localhost:8080/"
        },
        "id": "ZnXSkCyiXdh0",
        "outputId": "12460eb3-b037-4e2d-aaf0-5239b49d0236"
      },
      "execution_count": 16,
      "outputs": [
        {
          "output_type": "stream",
          "name": "stdout",
          "text": [
            "('venkat', 'B.tech', 2006)\n",
            "venkat\n",
            "('venkat', 'B.tech')\n",
            "('venkat', 'B.tech', 2006)\n",
            "(2006, 'B.tech', 'venkat')\n",
            "(2006, 'B.tech')\n"
          ]
        }
      ]
    },
    {
      "cell_type": "code",
      "source": [
        "tiny={'Name':'venkat','Marks':891}\n",
        "print(tiny)\n",
        "print(tiny['Name'])\n",
        "print(tiny['Marks'])\n",
        "tiny['Name']='ramana'\n",
        "print(tiny)"
      ],
      "metadata": {
        "colab": {
          "base_uri": "https://localhost:8080/"
        },
        "id": "0W2OlEUqYkm_",
        "outputId": "062bf11a-f301-4a5b-ed09-d364e273b501"
      },
      "execution_count": 17,
      "outputs": [
        {
          "output_type": "stream",
          "name": "stdout",
          "text": [
            "{'Name': 'venkat', 'Marks': 891}\n",
            "venkat\n",
            "891\n",
            "{'Name': 'ramana', 'Marks': 891}\n"
          ]
        }
      ]
    },
    {
      "cell_type": "code",
      "source": [
        "dict={}\n",
        "print(dict)\n",
        "dict['one']='this is one'\n",
        "print(dict)\n",
        "dict['2']='this is two'\n",
        "print(dict)\n",
        "print(dict.keys())\n",
        "print(dict.values())"
      ],
      "metadata": {
        "colab": {
          "base_uri": "https://localhost:8080/"
        },
        "id": "850R5yxYYzbn",
        "outputId": "0c456c14-b13d-4642-b114-dc79d27c0bdb"
      },
      "execution_count": 18,
      "outputs": [
        {
          "output_type": "stream",
          "name": "stdout",
          "text": [
            "{}\n",
            "{'one': 'this is one'}\n",
            "{'one': 'this is one', '2': 'this is two'}\n",
            "dict_keys(['one', '2'])\n",
            "dict_values(['this is one', 'this is two'])\n"
          ]
        }
      ]
    },
    {
      "cell_type": "code",
      "source": [
        "thisset={\"apple\", \"banana\", \"cherry\"}\n",
        "mylist = [\"kiwi\", \"orange\"]\n",
        "mylist_2=(2,3)\n",
        "mylist_3={\"Name\": \"Venkat\", \"School\": \"SRU\"}\n",
        "\n",
        "thisset.update(mylist)\n",
        "thisset.update(mylist_2)\n",
        "thisset.update(mylist_3)\n",
        "\n",
        "print(thisset)"
      ],
      "metadata": {
        "colab": {
          "base_uri": "https://localhost:8080/"
        },
        "id": "yF1TS7R8Y2tR",
        "outputId": "331a2e8c-c12a-485d-98d2-9596632af71d"
      },
      "execution_count": 19,
      "outputs": [
        {
          "output_type": "stream",
          "name": "stdout",
          "text": [
            "{'banana', 'orange', 2, 'apple', 'kiwi', 3, 'School', 'Name', 'cherry'}\n"
          ]
        }
      ]
    },
    {
      "cell_type": "code",
      "source": [
        "thisset={\"apple\", \"banana\", \"cherry\"}\n",
        "for x in thisset:\n",
        "    print(x)"
      ],
      "metadata": {
        "colab": {
          "base_uri": "https://localhost:8080/"
        },
        "id": "R8o5tsvKZQ7_",
        "outputId": "219ea065-907b-4a30-a6aa-bccc7e0f99ad"
      },
      "execution_count": 20,
      "outputs": [
        {
          "output_type": "stream",
          "name": "stdout",
          "text": [
            "banana\n",
            "apple\n",
            "cherry\n"
          ]
        }
      ]
    },
    {
      "cell_type": "code",
      "source": [
        "thisset={\"apple\", \"banana\", \"Cherry\"}\n",
        "tropical={\"pineapple\", \"mango\", \"papaya\"}\n",
        "\n",
        "thisset.update(tropical)\n",
        "\n",
        "print(thisset)"
      ],
      "metadata": {
        "colab": {
          "base_uri": "https://localhost:8080/"
        },
        "id": "c9NS0mvrZoEy",
        "outputId": "8c88e82f-51fc-4811-c020-166097c3d906"
      },
      "execution_count": 21,
      "outputs": [
        {
          "output_type": "stream",
          "name": "stdout",
          "text": [
            "{'Cherry', 'banana', 'mango', 'apple', 'papaya', 'pineapple'}\n"
          ]
        }
      ]
    }
  ]
}