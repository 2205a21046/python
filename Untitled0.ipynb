{
  "cells": [
    {
      "cell_type": "markdown",
      "metadata": {
        "id": "view-in-github",
        "colab_type": "text"
      },
      "source": [
        "<a href=\"https://colab.research.google.com/github/2205a21046/python/blob/main/Untitled0.ipynb\" target=\"_parent\"><img src=\"https://colab.research.google.com/assets/colab-badge.svg\" alt=\"Open In Colab\"/></a>"
      ]
    },
    {
      "cell_type": "code",
      "execution_count": null,
      "metadata": {
        "colab": {
          "base_uri": "https://localhost:8080/"
        },
        "id": "fDUpdo7OAeUD",
        "outputId": "e1d2ac74-0979-417e-eb4e-bc766e02cc10"
      },
      "outputs": [
        {
          "name": "stdout",
          "output_type": "stream",
          "text": [
            "<class 'int'>\n",
            "<class 'str'>\n",
            "<class 'float'>\n"
          ]
        }
      ],
      "source": [
        "x=5\n",
        "y=\"ravi\"\n",
        "z=50.0\n",
        "print(type(x))\n",
        "print(type(y))\n",
        "print(type(z))\n"
      ]
    },
    {
      "cell_type": "code",
      "execution_count": null,
      "metadata": {
        "colab": {
          "base_uri": "https://localhost:8080/"
        },
        "id": "zqwCbfC_LAP2",
        "outputId": "ff637dab-d124-46e7-ca86-91f4864573f8"
      },
      "outputs": [
        {
          "name": "stdout",
          "output_type": "stream",
          "text": [
            "mintu bhai\n",
            "mani jan\n",
            "<class 'str'>\n"
          ]
        }
      ],
      "source": [
        "y1=\"mintu bhai\"\n",
        "y2=\"mani jan\"\n",
        "y3=(\"mintu.630\")\n",
        "print(y1)\n",
        "print(y2)\n",
        "print(type(y3))\n",
        "\"casting\"\n"
      ]
    },
    {
      "cell_type": "code",
      "execution_count": null,
      "metadata": {
        "colab": {
          "base_uri": "https://localhost:8080/",
          "height": 176
        },
        "id": "uj35tDojL1Jd",
        "outputId": "0b9eb639-4ade-4bc4-c66f-f9ebf0756ad8"
      },
      "outputs": [
        {
          "ename": "NameError",
          "evalue": "name 'prin' is not defined",
          "output_type": "error",
          "traceback": [
            "\u001b[0;31m---------------------------------------------------------------------------\u001b[0m",
            "\u001b[0;31mNameError\u001b[0m                                 Traceback (most recent call last)",
            "\u001b[0;32m<ipython-input-5-8e578de583d6>\u001b[0m in \u001b[0;36m<cell line: 3>\u001b[0;34m()\u001b[0m\n\u001b[1;32m      1\u001b[0m \u001b[0mc\u001b[0m\u001b[0;34m=\u001b[0m\u001b[0;36m50\u001b[0m\u001b[0;34m\u001b[0m\u001b[0;34m\u001b[0m\u001b[0m\n\u001b[1;32m      2\u001b[0m \u001b[0md\u001b[0m\u001b[0;34m=\u001b[0m\u001b[0mfloat\u001b[0m\u001b[0;34m(\u001b[0m\u001b[0mc\u001b[0m\u001b[0;34m)\u001b[0m\u001b[0;34m\u001b[0m\u001b[0;34m\u001b[0m\u001b[0m\n\u001b[0;32m----> 3\u001b[0;31m \u001b[0mprin\u001b[0m\u001b[0;34m(\u001b[0m\u001b[0mc\u001b[0m\u001b[0;34m)\u001b[0m\u001b[0;34m\u001b[0m\u001b[0;34m\u001b[0m\u001b[0m\n\u001b[0m",
            "\u001b[0;31mNameError\u001b[0m: name 'prin' is not defined"
          ]
        }
      ],
      "source": [
        "c=50\n",
        "d=float(c)\n",
        "prin(c)"
      ]
    },
    {
      "cell_type": "markdown",
      "metadata": {
        "id": "PgY88IgDJr_q"
      },
      "source": [
        "08/08/2024"
      ]
    },
    {
      "cell_type": "code",
      "execution_count": null,
      "metadata": {
        "id": "CTObirGSJez-"
      },
      "outputs": [],
      "source": []
    },
    {
      "cell_type": "markdown",
      "metadata": {
        "id": "Lec06w2Jzpf4"
      },
      "source": [
        "ASSIGNMENT"
      ]
    },
    {
      "cell_type": "code",
      "execution_count": null,
      "metadata": {
        "colab": {
          "base_uri": "https://localhost:8080/",
          "height": 228
        },
        "id": "fmZB_kknzz3A",
        "outputId": "3181937d-837f-4e2a-e895-bee49d4a63d1"
      },
      "outputs": [
        {
          "name": "stdout",
          "output_type": "stream",
          "text": [
            "enter copperloss required56\n"
          ]
        },
        {
          "ename": "NameError",
          "evalue": "name 'efficieny' is not defined",
          "output_type": "error",
          "traceback": [
            "\u001b[0;31m---------------------------------------------------------------------------\u001b[0m",
            "\u001b[0;31mNameError\u001b[0m                                 Traceback (most recent call last)",
            "\u001b[0;32m<ipython-input-14-008a0df69c9b>\u001b[0m in \u001b[0;36m<cell line: 4>\u001b[0;34m()\u001b[0m\n\u001b[1;32m      2\u001b[0m \u001b[0mload\u001b[0m\u001b[0;34m=\u001b[0m\u001b[0minput\u001b[0m\u001b[0;34m(\u001b[0m\u001b[0;34m\"enter copperloss required\"\u001b[0m\u001b[0;34m)\u001b[0m\u001b[0;34m\u001b[0m\u001b[0;34m\u001b[0m\u001b[0m\n\u001b[1;32m      3\u001b[0m \u001b[0mcopperloss\u001b[0m\u001b[0;34m=\u001b[0m\u001b[0;36m7\u001b[0m\u001b[0;34m\u001b[0m\u001b[0;34m\u001b[0m\u001b[0m\n\u001b[0;32m----> 4\u001b[0;31m \u001b[0mtotal_load\u001b[0m\u001b[0;34m=\u001b[0m \u001b[0mcopperloss\u001b[0m\u001b[0;34m-\u001b[0m\u001b[0mload\u001b[0m\u001b[0;34m*\u001b[0m\u001b[0mefficieny\u001b[0m\u001b[0;34m\u001b[0m\u001b[0;34m\u001b[0m\u001b[0m\n\u001b[0m\u001b[1;32m      5\u001b[0m \u001b[0mprint\u001b[0m\u001b[0;34m(\u001b[0m\u001b[0mload\u001b[0m\u001b[0;34m)\u001b[0m\u001b[0;34m\u001b[0m\u001b[0;34m\u001b[0m\u001b[0m\n\u001b[1;32m      6\u001b[0m \u001b[0mprint\u001b[0m\u001b[0;34m(\u001b[0m\u001b[0mtotal\u001b[0m\u001b[0;34m-\u001b[0m\u001b[0mefficieny\u001b[0m\u001b[0;34m)\u001b[0m\u001b[0;34m\u001b[0m\u001b[0;34m\u001b[0m\u001b[0m\n",
            "\u001b[0;31mNameError\u001b[0m: name 'efficieny' is not defined"
          ]
        }
      ],
      "source": [
        "load=0.5\n",
        "load=input(\"enter copperloss required\")\n",
        "copperloss=7\n",
        "total_load= copperloss-load*efficieny\n",
        "print(load)\n",
        "print(total-efficieny)\n"
      ]
    },
    {
      "cell_type": "code",
      "execution_count": null,
      "metadata": {
        "colab": {
          "base_uri": "https://localhost:8080/"
        },
        "id": "W1MMqPz6Jh11",
        "outputId": "14ee5e3f-475c-4c06-ee57-23af66c576d8"
      },
      "outputs": [
        {
          "name": "stdout",
          "output_type": "stream",
          "text": [
            "mintu\n",
            "sr university\n",
            "500000\n",
            "2.00.2\n",
            "<class 'str'>\n"
          ]
        }
      ],
      "source": [
        "myname=\"mintu\"\n",
        "_my_university=\"sr university\"\n",
        "my_income=500000\n",
        "my_friend=\"2.00.2\"\n",
        "print(myname)\n",
        "print(_my_university)\n",
        "print(my_income)\n",
        "print(my_friend)\n",
        "print(type(my_friend))"
      ]
    },
    {
      "cell_type": "code",
      "execution_count": null,
      "metadata": {
        "colab": {
          "base_uri": "https://localhost:8080/"
        },
        "id": "Aw_tV1mzN1vh",
        "outputId": "191d48fa-e751-4f89-af41-a9f77ec173bc"
      },
      "outputs": [
        {
          "name": "stdout",
          "output_type": "stream",
          "text": [
            "jaan\n",
            "jaan\n",
            "jaan\n"
          ]
        }
      ],
      "source": [
        "x = y = z = \"jaan\"\n",
        "print(x)\n",
        "print(y)\n",
        "print(z)"
      ]
    },
    {
      "cell_type": "code",
      "execution_count": null,
      "metadata": {
        "colab": {
          "base_uri": "https://localhost:8080/",
          "height": 211
        },
        "id": "7RmMnVKlOdBT",
        "outputId": "93205394-dee2-4ff9-f81a-112e3884c373"
      },
      "outputs": [
        {
          "ename": "ValueError",
          "evalue": "not enough values to unpack (expected 3, got 1)",
          "output_type": "error",
          "traceback": [
            "\u001b[0;31m---------------------------------------------------------------------------\u001b[0m",
            "\u001b[0;31mValueError\u001b[0m                                Traceback (most recent call last)",
            "\u001b[0;32m<ipython-input-10-67c8d7a071e5>\u001b[0m in \u001b[0;36m<cell line: 2>\u001b[0;34m()\u001b[0m\n\u001b[1;32m      1\u001b[0m \u001b[0mmydetalis\u001b[0m \u001b[0;34m=\u001b[0m\u001b[0;34m{\u001b[0m\u001b[0;34m\"ravi, 21, 40.0\"\u001b[0m\u001b[0;34m}\u001b[0m\u001b[0;34m\u001b[0m\u001b[0;34m\u001b[0m\u001b[0m\n\u001b[0;32m----> 2\u001b[0;31m \u001b[0mname\u001b[0m\u001b[0;34m,\u001b[0m\u001b[0mage\u001b[0m\u001b[0;34m,\u001b[0m\u001b[0mtemp\u001b[0m \u001b[0;34m=\u001b[0m \u001b[0mmydetalis\u001b[0m\u001b[0;34m\u001b[0m\u001b[0;34m\u001b[0m\u001b[0m\n\u001b[0m\u001b[1;32m      3\u001b[0m \u001b[0mprint\u001b[0m\u001b[0;34m(\u001b[0m\u001b[0mname\u001b[0m\u001b[0;34m)\u001b[0m\u001b[0;34m\u001b[0m\u001b[0;34m\u001b[0m\u001b[0m\n\u001b[1;32m      4\u001b[0m \u001b[0mprint\u001b[0m\u001b[0;34m(\u001b[0m\u001b[0mage\u001b[0m\u001b[0;34m)\u001b[0m\u001b[0;34m\u001b[0m\u001b[0;34m\u001b[0m\u001b[0m\n\u001b[1;32m      5\u001b[0m \u001b[0mprint\u001b[0m\u001b[0;34m(\u001b[0m\u001b[0mtemp\u001b[0m\u001b[0;34m)\u001b[0m\u001b[0;34m\u001b[0m\u001b[0;34m\u001b[0m\u001b[0m\n",
            "\u001b[0;31mValueError\u001b[0m: not enough values to unpack (expected 3, got 1)"
          ]
        }
      ],
      "source": [
        "mydetalis ={\"ravi, 21, 40.0\"}\n",
        "name,age,temp = mydetalis\n",
        "print(name)\n",
        "print(age)\n",
        "print(temp)"
      ]
    },
    {
      "cell_type": "markdown",
      "metadata": {
        "id": "KI3-YrrbQJXv"
      },
      "source": []
    },
    {
      "cell_type": "code",
      "execution_count": null,
      "metadata": {
        "colab": {
          "base_uri": "https://localhost:8080/"
        },
        "id": "ZcrPUS41PiUK",
        "outputId": "01c362a3-1b66-4a32-f4cd-dad9522e748f"
      },
      "outputs": [
        {
          "name": "stdout",
          "output_type": "stream",
          "text": [
            "python is awesome\n"
          ]
        }
      ],
      "source": [
        "x=\"python is awesome\"\n",
        "print(x)\n",
        "\n"
      ]
    },
    {
      "cell_type": "code",
      "execution_count": null,
      "metadata": {
        "colab": {
          "base_uri": "https://localhost:8080/"
        },
        "id": "GBBUPiexQiqw",
        "outputId": "a22b0351-c048-49c0-98b8-7ac75ee58a30"
      },
      "outputs": [
        {
          "name": "stdout",
          "output_type": "stream",
          "text": [
            "python is awesome\n"
          ]
        }
      ],
      "source": [
        "x=\"python\"\n",
        "y=\"is\"\n",
        "z=\"awesome\"\n",
        "print(x,y,z)"
      ]
    },
    {
      "cell_type": "code",
      "execution_count": null,
      "metadata": {
        "id": "oypvUvUUCZ4V"
      },
      "outputs": [],
      "source": []
    },
    {
      "cell_type": "code",
      "execution_count": null,
      "metadata": {
        "colab": {
          "base_uri": "https://localhost:8080/"
        },
        "id": "C4X837YzJtII",
        "outputId": "02e1ca5d-2873-4a76-e52c-95803346a457"
      },
      "outputs": [
        {
          "name": "stdout",
          "output_type": "stream",
          "text": [
            "enter the rating of transformer withits units in volts ampers 1\n",
            "enter the copperlosses of the transformer in watts5\n",
            "enter the corelosses of the transformer in watts 4\n",
            "enter the powerfactor of the transformer5\n",
            "enter the load of the transformer6\n",
            "efficiency of transformer at 6.0  load : 14.018691588785046 %and losses at 6.0  load: 180.0\n",
            "transformer at highest efficiency = 0.8944271909999159\n"
          ]
        }
      ],
      "source": [
        "import math\n",
        "pf=float(input(\"enter the powerfactor of the transformer\"))\n",
        "x=float(input(\"enter the load of the transformer\"))\n",
        "\n",
        "\n",
        "\n"
      ]
    },
    {
      "cell_type": "code",
      "execution_count": null,
      "metadata": {
        "id": "K3Lpy-PsL3RQ"
      },
      "outputs": [],
      "source": []
    },
    {
      "cell_type": "code",
      "execution_count": null,
      "metadata": {
        "id": "WmV6eBCULfwc"
      },
      "outputs": [],
      "source": [
        "import math\n",
        "pf=float(input(\"enter  the power factor of the transformer\"))\n",
        "x=float(input(\"enter the load ofn the transformer\"))\n",
        "coreloss(input(\"enter the coreloos of the transformer\"))\n",
        "copper\n",
        "efficiency x(\"x*V*I*cos*\")\n"
      ]
    },
    {
      "cell_type": "code",
      "execution_count": null,
      "metadata": {
        "colab": {
          "base_uri": "https://localhost:8080/",
          "height": 280
        },
        "id": "zRA27slwEMae",
        "outputId": "e9e49564-0296-4797-e835-bca4bc9b042e"
      },
      "outputs": [
        {
          "name": "stdout",
          "output_type": "stream",
          "text": [
            "enter the rating of transformer withits units in volts ampers 10000000\n",
            "enter the copperlosses of the transformer in watts100000\n",
            "enter the corelosses of the transformer in watts 500000\n",
            "enter the poerfactor of the transformer0.95\n",
            "enter the load of the transformer0.5\n"
          ]
        },
        {
          "ename": "NameError",
          "evalue": "name 'xcopperlos' is not defined",
          "output_type": "error",
          "traceback": [
            "\u001b[0;31m---------------------------------------------------------------------------\u001b[0m",
            "\u001b[0;31mNameError\u001b[0m                                 Traceback (most recent call last)",
            "\u001b[0;32m<ipython-input-5-91d93143d271>\u001b[0m in \u001b[0;36m<cell line: 11>\u001b[0;34m()\u001b[0m\n\u001b[1;32m      9\u001b[0m \u001b[0mratio\u001b[0m\u001b[0;34m=\u001b[0m\u001b[0;34m(\u001b[0m\u001b[0mcrlos\u001b[0m\u001b[0;34m/\u001b[0m\u001b[0mculos\u001b[0m\u001b[0;34m)\u001b[0m\u001b[0;34m\u001b[0m\u001b[0;34m\u001b[0m\u001b[0m\n\u001b[1;32m     10\u001b[0m \u001b[0mkmax\u001b[0m\u001b[0;34m=\u001b[0m\u001b[0mmath\u001b[0m\u001b[0;34m.\u001b[0m\u001b[0msqrt\u001b[0m\u001b[0;34m(\u001b[0m\u001b[0mratio\u001b[0m\u001b[0;34m)\u001b[0m\u001b[0;34m\u001b[0m\u001b[0;34m\u001b[0m\u001b[0m\n\u001b[0;32m---> 11\u001b[0;31m \u001b[0mprint\u001b[0m\u001b[0;34m(\u001b[0m\u001b[0;34m\"efficiency of coreloss  the transformer\"\u001b[0m\u001b[0;34m,\u001b[0m \u001b[0mx\u001b[0m\u001b[0;34m,\u001b[0m\u001b[0;34m\" load :\"\u001b[0m\u001b[0;34m,\u001b[0m\u001b[0mxefficiency\u001b[0m\u001b[0;34m,\u001b[0m\u001b[0;34m\"%\"\u001b[0m\u001b[0;34m\"and losses at\"\u001b[0m\u001b[0;34m,\u001b[0m \u001b[0mx\u001b[0m\u001b[0;34m,\u001b[0m\u001b[0;34m\" load:\"\u001b[0m\u001b[0;34m,\u001b[0m\u001b[0mxcopperlos\u001b[0m\u001b[0;34m)\u001b[0m\u001b[0;34m\u001b[0m\u001b[0;34m\u001b[0m\u001b[0m\n\u001b[0m\u001b[1;32m     12\u001b[0m \u001b[0mprint\u001b[0m\u001b[0;34m(\u001b[0m\u001b[0;34m\"transformer at highest efficiency =\"\u001b[0m\u001b[0;34m,\u001b[0m\u001b[0mkmax\u001b[0m\u001b[0;34m)\u001b[0m\u001b[0;34m\u001b[0m\u001b[0;34m\u001b[0m\u001b[0m\n",
            "\u001b[0;31mNameError\u001b[0m: name 'xcopperlos' is not defined"
          ]
        }
      ],
      "source": [
        "import math\n",
        "rating=float(input(\"enter the rating of transformer withits units in volts ampers \"))\n",
        "copperloss=float(input(\"enter the copperlosses of the transformer in watts\"))\n",
        "coreloos=float(input(\"enter the corelosses of the transformer in watts \"))\n",
        "pf=float(input(\"enter the poerfactor of the transformer\"))\n",
        "x=float(input(\"enter the load of the transformer\"))\n",
        "xefficiency=((x*rating*pf*100)/((x*rating*pf)+(x*x*culos)+crlos))\n",
        "xculos=(x*x*culos)\n",
        "ratio=(crlos/culos)\n",
        "kmax=math.sqrt(ratio)\n",
        "print(\"efficiency of coreloss  the transformer\", x,\" load :\",xefficiency,\"%\"\"and losses at\", x,\" load:\",xcopperlos)\n",
        "print(\"transformer at highest efficiency =\",kmax)"
      ]
    },
    {
      "cell_type": "code",
      "execution_count": null,
      "metadata": {
        "id": "R6WvvzyuL4wL"
      },
      "outputs": [],
      "source": []
    },
    {
      "cell_type": "code",
      "execution_count": null,
      "metadata": {
        "colab": {
          "base_uri": "https://localhost:8080/",
          "height": 297
        },
        "id": "d0iVmFuoUD9a",
        "outputId": "48a9989c-3775-48d6-b017-1cbbc8e1bb74"
      },
      "outputs": [
        {
          "name": "stdout",
          "output_type": "stream",
          "text": [
            "Enter the Rating of transformer in Voltamphere = 100\n",
            "Enter the power factor of transformer = 0.9\n",
            "Enter the loading of transformer = 1\n",
            "Enter the Full load copper losses of transformer in Watts = 50\n",
            "Enter the core losses of Transformer in Watts = 25\n"
          ]
        },
        {
          "ename": "TypeError",
          "evalue": "'float' object is not callable",
          "output_type": "error",
          "traceback": [
            "\u001b[0;31m---------------------------------------------------------------------------\u001b[0m",
            "\u001b[0;31mTypeError\u001b[0m                                 Traceback (most recent call last)",
            "\u001b[0;32m<ipython-input-7-ea3afe50839b>\u001b[0m in \u001b[0;36m<cell line: 6>\u001b[0;34m()\u001b[0m\n\u001b[1;32m      4\u001b[0m \u001b[0mcopper_losses\u001b[0m\u001b[0;34m=\u001b[0m\u001b[0mfloat\u001b[0m\u001b[0;34m(\u001b[0m\u001b[0minput\u001b[0m\u001b[0;34m(\u001b[0m\u001b[0;34m\"Enter the Full load copper losses of transformer in Watts = \"\u001b[0m\u001b[0;34m)\u001b[0m\u001b[0;34m)\u001b[0m\u001b[0;34m\u001b[0m\u001b[0;34m\u001b[0m\u001b[0m\n\u001b[1;32m      5\u001b[0m \u001b[0mcore_losses\u001b[0m\u001b[0;34m=\u001b[0m\u001b[0mfloat\u001b[0m\u001b[0;34m(\u001b[0m\u001b[0minput\u001b[0m\u001b[0;34m(\u001b[0m\u001b[0;34m\"Enter the core losses of Transformer in Watts = \"\u001b[0m\u001b[0;34m)\u001b[0m\u001b[0;34m)\u001b[0m\u001b[0;34m\u001b[0m\u001b[0;34m\u001b[0m\u001b[0m\n\u001b[0;32m----> 6\u001b[0;31m \u001b[0mCu_losses\u001b[0m\u001b[0;34m=\u001b[0m\u001b[0;34m(\u001b[0m\u001b[0mcopper_losses\u001b[0m\u001b[0;34m)\u001b[0m\u001b[0;34m(\u001b[0m\u001b[0mloading\u001b[0m\u001b[0;34m*\u001b[0m\u001b[0;36m2\u001b[0m\u001b[0;34m)\u001b[0m\u001b[0;34m\u001b[0m\u001b[0;34m\u001b[0m\u001b[0m\n\u001b[0m\u001b[1;32m      7\u001b[0m \u001b[0mprint\u001b[0m\u001b[0;34m(\u001b[0m\u001b[0;34m\"copper losses of transformer at loading =\"\u001b[0m\u001b[0;34m,\u001b[0m\u001b[0mCu_losses\u001b[0m\u001b[0;34m)\u001b[0m\u001b[0;34m\u001b[0m\u001b[0;34m\u001b[0m\u001b[0m\n\u001b[1;32m      8\u001b[0m \u001b[0mefficiency\u001b[0m\u001b[0;34m=\u001b[0m\u001b[0;34m(\u001b[0m\u001b[0;34m(\u001b[0m\u001b[0;34m(\u001b[0m\u001b[0mloading\u001b[0m\u001b[0;34m)\u001b[0m\u001b[0;34m*\u001b[0m\u001b[0mRating\u001b[0m\u001b[0;34m*\u001b[0m\u001b[0mpf\u001b[0m\u001b[0;34m)\u001b[0m\u001b[0;34m/\u001b[0m\u001b[0;34m(\u001b[0m\u001b[0;34m(\u001b[0m\u001b[0mloading\u001b[0m\u001b[0;34m*\u001b[0m\u001b[0mRating\u001b[0m\u001b[0;34m*\u001b[0m\u001b[0mpf\u001b[0m\u001b[0;34m)\u001b[0m\u001b[0;34m+\u001b[0m\u001b[0mcore_losses\u001b[0m\u001b[0;34m+\u001b[0m\u001b[0mCu_losses\u001b[0m\u001b[0;34m)\u001b[0m\u001b[0;34m)\u001b[0m\u001b[0;34m*\u001b[0m\u001b[0;36m100\u001b[0m\u001b[0;34m\u001b[0m\u001b[0;34m\u001b[0m\u001b[0m\n",
            "\u001b[0;31mTypeError\u001b[0m: 'float' object is not callable"
          ]
        }
      ],
      "source": [
        "Rating=float(input(\"Enter the Rating of transformer in Voltamphere = \"))\n",
        "pf=float(input(\"Enter the power factor of transformer = \"))\n",
        "loading=float(input(\"Enter the loading of transformer = \"))\n",
        "copper_losses=float(input(\"Enter the Full load copper losses of transformer in Watts = \"))\n",
        "core_losses=float(input(\"Enter the core losses of Transformer in Watts = \"))\n",
        "Cu_losses=(copper_losses)(loading*2)\n",
        "print(\"copper losses of transformer at loading =\",Cu_losses)\n",
        "efficiency=(((loading)*Rating*pf)/((loading*Rating*pf)+core_losses+Cu_losses))*100\n",
        "print(\"Efficiency of transformer =\",efficiency,\"%\")\n",
        "import math\n",
        "Max_efficiency=math.sqrt(core_losses/copper_losses)\n",
        "print(\"Load at where maximum efficiency = \",Max_efficiency)"
      ]
    },
    {
      "cell_type": "code",
      "execution_count": null,
      "metadata": {
        "colab": {
          "base_uri": "https://localhost:8080/",
          "height": 297
        },
        "id": "48ViFneOVYbe",
        "outputId": "ec8d71bb-8df6-42c2-ce10-99e7a065833b"
      },
      "outputs": [
        {
          "name": "stdout",
          "output_type": "stream",
          "text": [
            "Enter the Rating of transformer in Voltamphere = 100\n",
            "Enter the power factor of transformer = 0.9\n",
            "Enter the loading of transformer = 1\n",
            "Enter the Full load copper losses of transformer in Watts = 50\n",
            "Enter the core losses of Transformer in Watts = 25\n"
          ]
        },
        {
          "ename": "TypeError",
          "evalue": "'float' object is not callable",
          "output_type": "error",
          "traceback": [
            "\u001b[0;31m---------------------------------------------------------------------------\u001b[0m",
            "\u001b[0;31mTypeError\u001b[0m                                 Traceback (most recent call last)",
            "\u001b[0;32m<ipython-input-8-ea3afe50839b>\u001b[0m in \u001b[0;36m<cell line: 6>\u001b[0;34m()\u001b[0m\n\u001b[1;32m      4\u001b[0m \u001b[0mcopper_losses\u001b[0m\u001b[0;34m=\u001b[0m\u001b[0mfloat\u001b[0m\u001b[0;34m(\u001b[0m\u001b[0minput\u001b[0m\u001b[0;34m(\u001b[0m\u001b[0;34m\"Enter the Full load copper losses of transformer in Watts = \"\u001b[0m\u001b[0;34m)\u001b[0m\u001b[0;34m)\u001b[0m\u001b[0;34m\u001b[0m\u001b[0;34m\u001b[0m\u001b[0m\n\u001b[1;32m      5\u001b[0m \u001b[0mcore_losses\u001b[0m\u001b[0;34m=\u001b[0m\u001b[0mfloat\u001b[0m\u001b[0;34m(\u001b[0m\u001b[0minput\u001b[0m\u001b[0;34m(\u001b[0m\u001b[0;34m\"Enter the core losses of Transformer in Watts = \"\u001b[0m\u001b[0;34m)\u001b[0m\u001b[0;34m)\u001b[0m\u001b[0;34m\u001b[0m\u001b[0;34m\u001b[0m\u001b[0m\n\u001b[0;32m----> 6\u001b[0;31m \u001b[0mCu_losses\u001b[0m\u001b[0;34m=\u001b[0m\u001b[0;34m(\u001b[0m\u001b[0mcopper_losses\u001b[0m\u001b[0;34m)\u001b[0m\u001b[0;34m(\u001b[0m\u001b[0mloading\u001b[0m\u001b[0;34m*\u001b[0m\u001b[0;36m2\u001b[0m\u001b[0;34m)\u001b[0m\u001b[0;34m\u001b[0m\u001b[0;34m\u001b[0m\u001b[0m\n\u001b[0m\u001b[1;32m      7\u001b[0m \u001b[0mprint\u001b[0m\u001b[0;34m(\u001b[0m\u001b[0;34m\"copper losses of transformer at loading =\"\u001b[0m\u001b[0;34m,\u001b[0m\u001b[0mCu_losses\u001b[0m\u001b[0;34m)\u001b[0m\u001b[0;34m\u001b[0m\u001b[0;34m\u001b[0m\u001b[0m\n\u001b[1;32m      8\u001b[0m \u001b[0mefficiency\u001b[0m\u001b[0;34m=\u001b[0m\u001b[0;34m(\u001b[0m\u001b[0;34m(\u001b[0m\u001b[0;34m(\u001b[0m\u001b[0mloading\u001b[0m\u001b[0;34m)\u001b[0m\u001b[0;34m*\u001b[0m\u001b[0mRating\u001b[0m\u001b[0;34m*\u001b[0m\u001b[0mpf\u001b[0m\u001b[0;34m)\u001b[0m\u001b[0;34m/\u001b[0m\u001b[0;34m(\u001b[0m\u001b[0;34m(\u001b[0m\u001b[0mloading\u001b[0m\u001b[0;34m*\u001b[0m\u001b[0mRating\u001b[0m\u001b[0;34m*\u001b[0m\u001b[0mpf\u001b[0m\u001b[0;34m)\u001b[0m\u001b[0;34m+\u001b[0m\u001b[0mcore_losses\u001b[0m\u001b[0;34m+\u001b[0m\u001b[0mCu_losses\u001b[0m\u001b[0;34m)\u001b[0m\u001b[0;34m)\u001b[0m\u001b[0;34m*\u001b[0m\u001b[0;36m100\u001b[0m\u001b[0;34m\u001b[0m\u001b[0;34m\u001b[0m\u001b[0m\n",
            "\u001b[0;31mTypeError\u001b[0m: 'float' object is not callable"
          ]
        }
      ],
      "source": [
        "Rating=float(input(\"Enter the Rating of transformer in Voltamphere = \"))\n",
        "pf=float(input(\"Enter the power factor of transformer = \"))\n",
        "loading=float(input(\"Enter the loading of transformer = \"))\n",
        "copper_losses=float(input(\"Enter the Full load copper losses of transformer in Watts = \"))\n",
        "core_losses=float(input(\"Enter the core losses of Transformer in Watts = \"))\n",
        "Cu_losses=(copper_losses)(loading*2)\n",
        "print(\"copper losses of transformer at loading =\",Cu_losses)\n",
        "efficiency=(((loading)*Rating*pf)/((loading*Rating*pf)+core_losses+Cu_losses))*100\n",
        "print(\"Efficiency of transformer =\",efficiency,\"%\")\n",
        "import math\n",
        "Max_efficiency=math.sqrt(core_losses/copper_losses)\n",
        "print(\"Load at where maximum efficiency = \",Max_efficiency)\n"
      ]
    },
    {
      "cell_type": "code",
      "execution_count": null,
      "metadata": {
        "id": "cBdKEys0P7h4"
      },
      "outputs": [],
      "source": []
    },
    {
      "cell_type": "code",
      "execution_count": null,
      "metadata": {
        "id": "k_UR8YysP8pH"
      },
      "outputs": [],
      "source": [
        "import math\n",
        "import cmath\n",
        "rat=float(input('enter the transformer ratting in voltamperes: '))\n",
        "pv=float(input('enter the primary voltage in volts: '))\n",
        "sv=float(input('enter the secondary voltage in volts: '))\n",
        "vo=float(input('enter the open ckt test voltage in volts: '))\n",
        "io=float(input('enter the open ckt test current in amperes: '))\n",
        "po=float(input('enter the open ckt test power in watts: '))\n",
        "vsc=float(input('enter the short ckt test voltage in volts: '))\n",
        "isc=float(input('enter the short ckt test current in amperes: '))\n",
        "psc=float(input('enter the short ckt test power in watts: '))\n",
        "pf=float(input('enter the power factor of the transformer: '))\n",
        "x=float(input('enter the loading of a transformer: '))\n",
        "ro=((vo)**2/po)\n",
        "xo=((vo/io)-ro)\n",
        "zsc=(vsc/isc)\n",
        "ro1=((psc/(isc**2)))\n",
        "x1=(((zsc*2)-(ro*12))*0.5)\n",
        "xo1=(cmath.polar(x1))\n",
        "ag=math.atan(xo/ro)\n",
        "ang=math.degrees(ag)\n",
        "culos=((x**2)*psc)\n",
        "n=((x*(rat*1000)pf)/(x(rat*1000)*pf+po+((x*2)*psc))*100)\n",
        "kmax=(po/psc)**0.5\n",
        "print('primary voltage=',pv,'volts')\n",
        "print('secondary voltage=',sv,'volts')\n",
        "print('Ro=',ro,'ohms')\n",
        "print('Xo=',xo,'ohms')\n",
        "print('Ro1=',ro1,'ohms')\n",
        "print('Xo1=',xo1,'ohms')\n",
        "print('core losses of transformer=',po,'watts')\n",
        "print('loading of the transformer=',x)\n",
        "print('copper losses of transformer at loading',x,'=',culos,'watts')\n",
        "print('efficiency of transformer at loading=',n,'%')\n",
        "print('maximum efficiency loading=',kmax)\n",
        "print('no load phase angle of the transformer=',ang)"
      ]
    },
    {
      "cell_type": "code",
      "execution_count": null,
      "metadata": {
        "id": "GBk5pmYUQlla"
      },
      "outputs": [],
      "source": [
        "import math\n",
        "vo=float(input('enter the open ckt test voltage in volts: '))\n",
        "io=float(input('enter the open ckt test current in amperes: '))\n",
        "w=float(input(\"\"))"
      ]
    },
    {
      "cell_type": "code",
      "execution_count": null,
      "metadata": {
        "id": "4JyN_2a0_AfM"
      },
      "outputs": [],
      "source": []
    },
    {
      "cell_type": "code",
      "execution_count": null,
      "metadata": {
        "colab": {
          "background_save": true
        },
        "id": "YVf73s8M_LE5",
        "outputId": "86e18459-88dd-48d6-f464-2b661babfbd4"
      },
      "outputs": [
        {
          "ename": "ModuleNotFoundError",
          "evalue": "No module named 'transformer'",
          "output_type": "error",
          "traceback": [
            "\u001b[0;31m---------------------------------------------------------------------------\u001b[0m",
            "\u001b[0;31mModuleNotFoundError\u001b[0m                       Traceback (most recent call last)",
            "\u001b[0;32m<ipython-input-1-df1edb22afe2>\u001b[0m in \u001b[0;36m<cell line: 1>\u001b[0;34m()\u001b[0m\n\u001b[0;32m----> 1\u001b[0;31m \u001b[0;32mimport\u001b[0m \u001b[0mtransformer\u001b[0m\u001b[0;34m\u001b[0m\u001b[0;34m\u001b[0m\u001b[0m\n\u001b[0m\u001b[1;32m      2\u001b[0m \u001b[0mr\u001b[0m\u001b[0;34m=\u001b[0m\u001b[0mfloat\u001b[0m\u001b[0;34m(\u001b[0m\u001b[0minput\u001b[0m\u001b[0;34m(\u001b[0m\u001b[0;34m'enter the transformer ratting in voltamperes: '\u001b[0m\u001b[0;34m)\u001b[0m\u001b[0;34m)\u001b[0m\u001b[0;34m\u001b[0m\u001b[0;34m\u001b[0m\u001b[0m\n\u001b[1;32m      3\u001b[0m \u001b[0mpv\u001b[0m\u001b[0;34m=\u001b[0m\u001b[0mfloat\u001b[0m\u001b[0;34m(\u001b[0m\u001b[0minput\u001b[0m\u001b[0;34m(\u001b[0m\u001b[0;34m'enter the primary voltage in volts: '\u001b[0m\u001b[0;34m)\u001b[0m\u001b[0;34m)\u001b[0m\u001b[0;34m\u001b[0m\u001b[0;34m\u001b[0m\u001b[0m\n\u001b[1;32m      4\u001b[0m \u001b[0msv\u001b[0m\u001b[0;34m=\u001b[0m\u001b[0mfloat\u001b[0m\u001b[0;34m(\u001b[0m\u001b[0minput\u001b[0m\u001b[0;34m(\u001b[0m\u001b[0;34m'enter the secondary voltage in volts: '\u001b[0m\u001b[0;34m)\u001b[0m\u001b[0;34m)\u001b[0m\u001b[0;34m\u001b[0m\u001b[0;34m\u001b[0m\u001b[0m\n\u001b[1;32m      5\u001b[0m \u001b[0mvo\u001b[0m\u001b[0;34m=\u001b[0m\u001b[0mfloat\u001b[0m\u001b[0;34m(\u001b[0m\u001b[0minput\u001b[0m\u001b[0;34m(\u001b[0m\u001b[0;34m'enter the open ckt test voltage in volts: '\u001b[0m\u001b[0;34m)\u001b[0m\u001b[0;34m)\u001b[0m\u001b[0;34m\u001b[0m\u001b[0;34m\u001b[0m\u001b[0m\n",
            "\u001b[0;31mModuleNotFoundError\u001b[0m: No module named 'transformer'",
            "",
            "\u001b[0;31m---------------------------------------------------------------------------\u001b[0;32m\nNOTE: If your import is failing due to a missing package, you can\nmanually install dependencies using either !pip or !apt.\n\nTo view examples of installing some common dependencies, click the\n\"Open Examples\" button below.\n\u001b[0;31m---------------------------------------------------------------------------\u001b[0m\n"
          ]
        }
      ],
      "source": [
        "import transformer\n",
        "r=float(input('enter the transformer ratting in voltamperes: '))\n",
        "pv=float(input('enter the primary voltage in volts: '))\n",
        "sv=float(input('enter the secondary voltage in volts: '))\n",
        "vo=float(input('enter the open ckt test voltage in volts: '))\n",
        "io=float(input('enter the open ckt test current in amperes: '))\n",
        "wo=float(input('enter the open ckt test power in watts: '))\n",
        "vsc=float(input('enter the short ckt test voltage in volts: '))\n",
        "isc=float(input('enter the short ckt test current in amperes: '))\n",
        "wsc=float(input('enter the short ckt test power in watts: '))\n",
        "pf=float(input('enter the power factor of the transformer: '))\n",
        "x=float(input('enter the loading of a transformer: '))\n",
        "[ro,xo]=transformer.oc(vo,io,wo)\n",
        "[rhv,xhv]=transformer.sc(vsc,isc,wsc)\n",
        "[efficiency,xcu]=transformer.eff(r,wo,wsc,x,pf)\n",
        "print(\"ro=\",ro)\n",
        "print(\"xo=\",xo)\n",
        "print(\"rhv=\",rhv)\n",
        "print(\"xhv=\",xhv)\n",
        "print(\"copperlosses=\",xcu)\n",
        "print(\"eficiency=\",efficiency)"
      ]
    },
    {
      "cell_type": "code",
      "source": [
        "str=\"ravi\"\n",
        "for i in str:\n",
        " if (i==\"i\"):\n",
        " continue;\n",
        " print(i)\n",
        "print(\"byr dude\")"
      ],
      "metadata": {
        "colab": {
          "base_uri": "https://localhost:8080/",
          "height": 106
        },
        "id": "anA0lMB3jiFl",
        "outputId": "ebc15a24-bb18-4fc0-e768-8321a4b37b5a"
      },
      "execution_count": null,
      "outputs": [
        {
          "output_type": "error",
          "ename": "IndentationError",
          "evalue": "expected an indented block after 'if' statement on line 3 (<ipython-input-10-78dc7476c55a>, line 4)",
          "traceback": [
            "\u001b[0;36m  File \u001b[0;32m\"<ipython-input-10-78dc7476c55a>\"\u001b[0;36m, line \u001b[0;32m4\u001b[0m\n\u001b[0;31m    continue;\u001b[0m\n\u001b[0m    ^\u001b[0m\n\u001b[0;31mIndentationError\u001b[0m\u001b[0;31m:\u001b[0m expected an indented block after 'if' statement on line 3\n"
          ]
        }
      ]
    },
    {
      "cell_type": "code",
      "source": [
        "print(15*15)\n",
        "print(\"ravi\")\n",
        "print(\"15.15\")\n",
        "y=(\"12.3\")\n",
        "print(type(y))\n",
        "a=(\"ravi.ips\")\n",
        "print(type(a))\n",
        "z=9\n",
        "print(type(z))\n",
        "q=12*12/12\n",
        "print(q)\n",
        "w=121*125/369/15*15\n",
        "print(type(w))\n",
        "print(w)\n",
        "i=\"mintu\"\n",
        "print(type(i))\n"
      ],
      "metadata": {
        "colab": {
          "base_uri": "https://localhost:8080/"
        },
        "id": "zInspYUgnh6q",
        "outputId": "f114c0a4-d3e7-4f56-fbe8-e950c5dd0261"
      },
      "execution_count": null,
      "outputs": [
        {
          "output_type": "stream",
          "name": "stdout",
          "text": [
            "225\n",
            "ravi\n",
            "15.15\n",
            "<class 'str'>\n",
            "<class 'str'>\n",
            "<class 'int'>\n",
            "12.0\n",
            "<class 'float'>\n",
            "40.989159891598916\n",
            "<class 'str'>\n"
          ]
        }
      ]
    },
    {
      "cell_type": "code",
      "source": [
        "i=\"beauty\"\n",
        "print(i)\n",
        "print(type(i))"
      ],
      "metadata": {
        "colab": {
          "base_uri": "https://localhost:8080/"
        },
        "id": "fDPend2Qq-z-",
        "outputId": "2003a325-e660-440a-8a60-19213cb78fb3"
      },
      "execution_count": null,
      "outputs": [
        {
          "output_type": "stream",
          "name": "stdout",
          "text": [
            "beauty\n",
            "<class 'str'>\n"
          ]
        }
      ]
    },
    {
      "cell_type": "code",
      "source": [],
      "metadata": {
        "colab": {
          "base_uri": "https://localhost:8080/",
          "height": 176
        },
        "id": "R1_Q1fuurbDD",
        "outputId": "74cecf59-d97d-4b39-8887-ef0070e9d212"
      },
      "execution_count": null,
      "outputs": [
        {
          "output_type": "error",
          "ename": "NameError",
          "evalue": "name 'banana' is not defined",
          "traceback": [
            "\u001b[0;31m---------------------------------------------------------------------------\u001b[0m",
            "\u001b[0;31mNameError\u001b[0m                                 Traceback (most recent call last)",
            "\u001b[0;32m<ipython-input-40-4feb940ad296>\u001b[0m in \u001b[0;36m<cell line: 1>\u001b[0;34m()\u001b[0m\n\u001b[0;32m----> 1\u001b[0;31m \u001b[0mlist\u001b[0m\u001b[0;34m=\u001b[0m\u001b[0;34m[\u001b[0m\u001b[0;36m1\u001b[0m\u001b[0;34m,\u001b[0m\u001b[0;36m20.2\u001b[0m\u001b[0;34m,\u001b[0m\u001b[0;34m(\u001b[0m\u001b[0mbanana\u001b[0m\u001b[0;34m.\u001b[0m\u001b[0mapple\u001b[0m\u001b[0;34m)\u001b[0m\u001b[0;34m,\u001b[0m\u001b[0;34m[\u001b[0m\u001b[0;36m4\u001b[0m\u001b[0;34m,\u001b[0m\u001b[0;34m-\u001b[0m\u001b[0;36m5\u001b[0m\u001b[0;34m]\u001b[0m\u001b[0;34m]\u001b[0m\u001b[0;34m\u001b[0m\u001b[0;34m\u001b[0m\u001b[0m\n\u001b[0m\u001b[1;32m      2\u001b[0m \u001b[0mprint\u001b[0m\u001b[0;34m(\u001b[0m\u001b[0mtype\u001b[0m\u001b[0;34m(\u001b[0m\u001b[0mlist\u001b[0m\u001b[0;34m)\u001b[0m\u001b[0;34m)\u001b[0m\u001b[0;34m\u001b[0m\u001b[0;34m\u001b[0m\u001b[0m\n\u001b[1;32m      3\u001b[0m \u001b[0mprint\u001b[0m\u001b[0;34m(\u001b[0m\u001b[0;34m\"list\"\u001b[0m\u001b[0;34m)\u001b[0m\u001b[0;34m\u001b[0m\u001b[0;34m\u001b[0m\u001b[0m\n",
            "\u001b[0;31mNameError\u001b[0m: name 'banana' is not defined"
          ]
        }
      ]
    },
    {
      "cell_type": "code",
      "source": [
        "list1=[23,2.23,[-3,5],[\"ravi\",\"ips\"]]\n",
        "print(list1)\n",
        "print(type(list1))\n",
        "list2=23,20.3,\"fruit\"\n",
        "print(type(list2))"
      ],
      "metadata": {
        "colab": {
          "base_uri": "https://localhost:8080/"
        },
        "id": "2uQmr9CuxwVY",
        "outputId": "c880500b-579b-412a-a393-ff380a4f6442"
      },
      "execution_count": null,
      "outputs": [
        {
          "output_type": "stream",
          "name": "stdout",
          "text": [
            "[23, 2.23, [-3, 5], ['ravi', 'ips']]\n",
            "<class 'list'>\n",
            "<class 'tuple'>\n"
          ]
        }
      ]
    },
    {
      "cell_type": "code",
      "source": [
        "a=25\n",
        "b=526\n",
        "print(\"value\",(a+b));\n",
        "print(\"value\",(a*b));\n",
        "print(\"value\",(a/b));\n",
        "print(\"value\",(a%b));\n",
        "print(type(a+b));\n",
        "print(type(a*b));\n",
        "print(type(a/b));\n",
        "print(type(a%b));\n",
        "print(\"value\",(a/b*a));\n"
      ],
      "metadata": {
        "colab": {
          "base_uri": "https://localhost:8080/"
        },
        "id": "swMW_4hRy3ES",
        "outputId": "6710850f-76fa-4343-cae5-34e5cac2509e"
      },
      "execution_count": null,
      "outputs": [
        {
          "output_type": "stream",
          "name": "stdout",
          "text": [
            "value 551\n",
            "value 13150\n",
            "value 0.04752851711026616\n",
            "value 25\n",
            "<class 'int'>\n",
            "<class 'int'>\n",
            "<class 'float'>\n",
            "<class 'int'>\n",
            "value 1.188212927756654\n"
          ]
        }
      ]
    },
    {
      "cell_type": "code",
      "source": [
        "a=\"8\"\n",
        "b=\"2\"\n",
        "print(int(a+b))\n",
        "print(float(a+b))\n",
        "print(str(a+b))\n",
        "print(set(a+b))\n",
        "print(tuple(a+b))\n",
        "print(list(a+b))\n",
        "print(hex(a+b))\n",
        "print(ord(a+b))"
      ],
      "metadata": {
        "colab": {
          "base_uri": "https://localhost:8080/",
          "height": 297
        },
        "id": "a9TOaH9n7WU9",
        "outputId": "2ceadba8-31e1-4578-ac49-54dd8790de46"
      },
      "execution_count": null,
      "outputs": [
        {
          "output_type": "stream",
          "name": "stdout",
          "text": [
            "82\n",
            "82.0\n",
            "82\n",
            "{'2', '8'}\n",
            "('8', '2')\n",
            "['8', '2']\n"
          ]
        },
        {
          "output_type": "error",
          "ename": "TypeError",
          "evalue": "'str' object cannot be interpreted as an integer",
          "traceback": [
            "\u001b[0;31m---------------------------------------------------------------------------\u001b[0m",
            "\u001b[0;31mTypeError\u001b[0m                                 Traceback (most recent call last)",
            "\u001b[0;32m<ipython-input-74-10ae141cea97>\u001b[0m in \u001b[0;36m<cell line: 9>\u001b[0;34m()\u001b[0m\n\u001b[1;32m      7\u001b[0m \u001b[0mprint\u001b[0m\u001b[0;34m(\u001b[0m\u001b[0mtuple\u001b[0m\u001b[0;34m(\u001b[0m\u001b[0ma\u001b[0m\u001b[0;34m+\u001b[0m\u001b[0mb\u001b[0m\u001b[0;34m)\u001b[0m\u001b[0;34m)\u001b[0m\u001b[0;34m\u001b[0m\u001b[0;34m\u001b[0m\u001b[0m\n\u001b[1;32m      8\u001b[0m \u001b[0mprint\u001b[0m\u001b[0;34m(\u001b[0m\u001b[0mlist\u001b[0m\u001b[0;34m(\u001b[0m\u001b[0ma\u001b[0m\u001b[0;34m+\u001b[0m\u001b[0mb\u001b[0m\u001b[0;34m)\u001b[0m\u001b[0;34m)\u001b[0m\u001b[0;34m\u001b[0m\u001b[0;34m\u001b[0m\u001b[0m\n\u001b[0;32m----> 9\u001b[0;31m \u001b[0mprint\u001b[0m\u001b[0;34m(\u001b[0m\u001b[0mhex\u001b[0m\u001b[0;34m(\u001b[0m\u001b[0ma\u001b[0m\u001b[0;34m+\u001b[0m\u001b[0mb\u001b[0m\u001b[0;34m)\u001b[0m\u001b[0;34m)\u001b[0m\u001b[0;34m\u001b[0m\u001b[0;34m\u001b[0m\u001b[0m\n\u001b[0m\u001b[1;32m     10\u001b[0m \u001b[0mprint\u001b[0m\u001b[0;34m(\u001b[0m\u001b[0mord\u001b[0m\u001b[0;34m(\u001b[0m\u001b[0ma\u001b[0m\u001b[0;34m+\u001b[0m\u001b[0mb\u001b[0m\u001b[0;34m)\u001b[0m\u001b[0;34m)\u001b[0m\u001b[0;34m\u001b[0m\u001b[0;34m\u001b[0m\u001b[0m\n",
            "\u001b[0;31mTypeError\u001b[0m: 'str' object cannot be interpreted as an integer"
          ]
        }
      ]
    },
    {
      "cell_type": "markdown",
      "source": [
        "implicit typecasting"
      ],
      "metadata": {
        "id": "9d46TU_n-yCy"
      }
    },
    {
      "cell_type": "code",
      "source": [
        "a=1.5\n",
        "b=6\n",
        "print(type(a+b));\n",
        "print(a+b);"
      ],
      "metadata": {
        "colab": {
          "base_uri": "https://localhost:8080/"
        },
        "id": "s0y582Ob-xyS",
        "outputId": "8f14f0ee-8ed4-43d5-a0da-8fdb7fd369c7"
      },
      "execution_count": null,
      "outputs": [
        {
          "output_type": "stream",
          "name": "stdout",
          "text": [
            "<class 'float'>\n",
            "7.5\n"
          ]
        }
      ]
    },
    {
      "cell_type": "code",
      "source": [
        "import datetime\n",
        "now=datetime.datetime.now()\n",
        "print(\"current date and time\",now)\n",
        "formatted_now=now.strftime(\"%Y-%m-%d %H:%M:%S\")\n",
        "count=0\n",
        "print(\"formatted date and time\",formatted_now)\n",
        "pu=int(input(\"enter the previos month units=\"))\n",
        "cu=int(input(\"enter the current month units=\"))\n",
        "tc=int(input(\"enter the type of customer 0;res 1;com 2;adv\"))\n",
        "u=cu-pu\n",
        "ed=0.06*u\n",
        "if(tc==0):\n",
        "  if(u<100):\n",
        "    if(u<50):\n",
        "      ec=1.95*u\n",
        "      fc=10\n",
        "      cc=40\n",
        "    else:\n",
        "      ec=3.10*u\n",
        "      fc=10\n",
        "      cc=70\n",
        "  else:\n",
        "    if(u>100 and u<=200):\n",
        "      ec=100*3.4+(u-100)*4.8\n",
        "      fc=10\n",
        "      cc=90\n",
        "    else:\n",
        "        print(\"this application is not supppoted\")\n",
        "        count=count+1\n",
        "if(tc==1):\n",
        "  if(u<50):\n",
        "    ec=7*u\n",
        "    fc=10\n",
        "    cc=50\n",
        "  else:\n",
        "    print(\"this application is not supppoted\")\n",
        "    count=count+1\n",
        "\n",
        "if(tc==2):\n",
        "  ec=13*u\n",
        "  fc=70\n",
        "  cc=160\n",
        "\n",
        "if(count==0):\n",
        "  bill_amount=ec+fc+cc+ed\n",
        "  print(\"----------------------------\")\n",
        "  print(\"TGNPDCL TELANGANA NORTHEN POWER DISTRIBUTION COMPANY LIMITED \")\n",
        "  print(\"formatted date and time:\",formatted_now)\n",
        "  print(\"----------------------------\")\n",
        "  print(\"previous units:\",pu)\n",
        "  print(\"current units:\",cu)\n",
        "  print(\"energy chargers=\",ec)\n",
        "  print(\"fixed chargers=\",fc)\n",
        "  print(\"customer chargers=\",cc)\n",
        "  print(\"electricity duty=\",ed)\n",
        "  print(\"bill_amount=\",bill_amount)"
      ],
      "metadata": {
        "id": "QI0jNWskKMv3",
        "colab": {
          "base_uri": "https://localhost:8080/"
        },
        "outputId": "ca25e0e4-8c9d-438a-e1fa-7f0702213a2e"
      },
      "execution_count": null,
      "outputs": [
        {
          "output_type": "stream",
          "name": "stdout",
          "text": [
            "current date and time 2024-09-09 10:48:10.246700\n",
            "formatted date and time 2024-09-09 10:48:10\n",
            "enter the previos month units=7144\n",
            "enter the current month units=7183\n",
            "enter the type of customer 0;res 1;com 2;adv0\n",
            "----------------------------\n",
            "TGNPDCL TELANGANA NORTHEN POWER DISTRIBUTION COMPANY LIMITED \n",
            "formatted date and time: 2024-09-09 10:48:10\n",
            "----------------------------\n",
            "previous units: 7144\n",
            "current units: 7183\n",
            "energy chargers= 76.05\n",
            "fixed chargers= 10\n",
            "customer chargers= 40\n",
            "electricity duty= 2.34\n",
            "bill_amount= 128.39\n"
          ]
        }
      ]
    }
  ],
  "metadata": {
    "colab": {
      "provenance": [],
      "authorship_tag": "ABX9TyNUoG/aAhN7DREUkWz7mH3B",
      "include_colab_link": true
    },
    "kernelspec": {
      "display_name": "Python 3",
      "name": "python3"
    },
    "language_info": {
      "name": "python"
    }
  },
  "nbformat": 4,
  "nbformat_minor": 0
}