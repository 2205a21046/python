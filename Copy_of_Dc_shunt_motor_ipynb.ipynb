{
  "nbformat": 4,
  "nbformat_minor": 0,
  "metadata": {
    "colab": {
      "provenance": [],
      "authorship_tag": "ABX9TyNL3KsCvkA/3/4qDU8zYvyy",
      "include_colab_link": true
    },
    "kernelspec": {
      "name": "python3",
      "display_name": "Python 3"
    },
    "language_info": {
      "name": "python"
    }
  },
  "cells": [
    {
      "cell_type": "markdown",
      "metadata": {
        "id": "view-in-github",
        "colab_type": "text"
      },
      "source": [
        "<a href=\"https://colab.research.google.com/github/2205a21046/python/blob/main/Copy_of_Dc_shunt_motor_ipynb.ipynb\" target=\"_parent\"><img src=\"https://colab.research.google.com/assets/colab-badge.svg\" alt=\"Open In Colab\"/></a>"
      ]
    },
    {
      "cell_type": "code",
      "source": [
        "def armature_current(v,rsh,il):\n",
        "    ia=il-v/rsh\n",
        "    return ia\n",
        "def copper_losses(v,il,rsh,ra):\n",
        "    CUL=V**2/Rsh**2*Rsh+(Il-v/Rsh)**2*Ra\n",
        "    return CUL\n",
        "def efficiency(v,Il,Rsh,Ra):\n",
        "    eff=(v*Il-CUL-CL)/(v*Il)*100\n",
        "    return eff"
      ],
      "metadata": {
        "id": "qDxJ9YD71YgE"
      },
      "execution_count": null,
      "outputs": []
    }
  ]
}