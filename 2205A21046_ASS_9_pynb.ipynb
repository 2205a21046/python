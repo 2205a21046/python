{
  "nbformat": 4,
  "nbformat_minor": 0,
  "metadata": {
    "colab": {
      "provenance": [],
      "authorship_tag": "ABX9TyN0gmm1PsvHhztPXxtzOCrb",
      "include_colab_link": true
    },
    "kernelspec": {
      "name": "python3",
      "display_name": "Python 3"
    },
    "language_info": {
      "name": "python"
    }
  },
  "cells": [
    {
      "cell_type": "markdown",
      "metadata": {
        "id": "view-in-github",
        "colab_type": "text"
      },
      "source": [
        "<a href=\"https://colab.research.google.com/github/2205a21046/python/blob/main/2205A21046_ASS_9_pynb.ipynb\" target=\"_parent\"><img src=\"https://colab.research.google.com/assets/colab-badge.svg\" alt=\"Open In Colab\"/></a>"
      ]
    },
    {
      "cell_type": "code",
      "source": [
        "\n",
        "import numpy as np\n",
        "marks_distribution = {\n",
        "    'Tel': 100,\n",
        "    'Eng': 100,\n",
        "    'Math': 100,\n",
        "    'Scd': 100,\n",
        "    'Soc': 100,\n",
        "}\n",
        "passing_marks = 35\n",
        "bonus_marks = 10\n",
        "students_data = {\n",
        "    101: {'Tel': 35, 'Eng': 98, 'Math': 43, 'Scd': 65, 'Soc': 78},\n",
        "    102: {'Tel': 87, 'Eng': 45, 'Math': 98, 'Scd': 65, 'Soc': 78},\n",
        "    103: {'Tel': 45, 'Eng': 26, 'Math': 78, 'Scd': 45, 'Soc': 67},\n",
        "    104: {'Tel': 45, 'Eng': 50, 'Math': 67, 'Scd': 78, 'Soc': 89},\n",
        "    105: {'Tel': 23, 'Eng': 34, 'Math': 45, 'Scd': 56, 'Soc': 76},\n",
        "    106: {'Tel': 87, 'Eng': 45, 'Math': 98, 'Scd': 65, 'Soc': 78},\n",
        "}\n",
        "\n",
        "def calculate_percentage(marks):\n",
        "    total_marks = sum(marks_distribution.values())\n",
        "    return (sum(marks.values()) / total_marks) * 100\n",
        "def print_scorecard(roll_no):\n",
        "    student_marks = students_data.get(roll_no)\n",
        "    if student_marks:\n",
        "        print(f\"Scorecard for Roll No. {roll_no}:\")\n",
        "        print(\"-----------------------------------\")\n",
        "        for subject, mark in student_marks.items():\n",
        "            print(f\"{subject}: {mark}\")\n",
        "        print(\"-----------------------------------\")\n",
        "        if all(mark >= passing_marks for mark in student_marks.values()):\n",
        "            percentage = calculate_percentage(student_marks)\n",
        "            print(f\"Percentage: {percentage:.2f}%\")\n",
        "            print(\"Result: Passed\")\n",
        "        else:\n",
        "            print(\"Result: Failed\")\n",
        "        solution_submission_status = {\n",
        "            101: True,\n",
        "            102: False,\n",
        "            103: True,\n",
        "            104: True,\n",
        "            105: False,\n",
        "            106: True,\n",
        "        }\n",
        "        if solution_submission_status.get(roll_no):\n",
        "            print(f\"Bonus Marks: +{bonus_marks}\")\n",
        "    else:\n",
        "        print(\"Student not found.\")\n",
        "roll_no = int(input(\"Enter Roll No.: \"))\n",
        "print_scorecard(roll_no)\n",
        "\n",
        "\n"
      ],
      "metadata": {
        "colab": {
          "base_uri": "https://localhost:8080/"
        },
        "id": "BpL48JNtnmKA",
        "outputId": "c956bf33-81aa-4d11-bd84-74ef9a03b499"
      },
      "execution_count": 7,
      "outputs": [
        {
          "output_type": "stream",
          "name": "stdout",
          "text": [
            "Enter Roll No.: 103\n",
            "Scorecard for Roll No. 103:\n",
            "-----------------------------------\n",
            "Tel: 45\n",
            "Eng: 26\n",
            "Math: 78\n",
            "Scd: 45\n",
            "Soc: 67\n",
            "-----------------------------------\n",
            "Result: Failed\n",
            "Bonus Marks: +10\n"
          ]
        }
      ]
    },
    {
      "cell_type": "code",
      "source": [
        "import numpy as np\n",
        "marks=np.array([[101,35,98,43,65,78,96],[102,87,45,98,65,34,78],[103,45,26,78,45,67,34],[104,45,56,67,78,89,90],[105,23,34,45,56,76,87]])\n",
        "students=marks.shape[0]\n",
        "\n",
        "Roll_no=int(input(\"enter the Roll_no:\"))\n",
        "for i in range(students):\n",
        "  if(Roll_no==marks[i][0]):\n",
        "    break\n",
        "index=i\n",
        "percentages=np.sum(marks[index,1:marks.shape[1]])*100/600\n",
        "\n",
        "count=0\n",
        "failed_sub=[]\n",
        "for i in range(1,marks.shape[1]):\n",
        "  if(marks[index][i]<35):\n",
        "    count=count+1\n",
        "    failed_sub.append(i)\n",
        "print(\"==========================\")\n",
        "print(\"     KIDERLND school     \")\n",
        "print(\"        score card        \")\n",
        "print(\"==========================\")\n",
        "print(\"Roll_no:\",Roll_no)\n",
        "print(\"Telugu:\",marks[index][1])\n",
        "print(\"English:\",marks[index][2])\n",
        "print(\"Hindi:\",marks[index][3])\n",
        "print(\"Math:\",marks[index][4])\n",
        "print(\"Science:\",marks[index][5])\n",
        "print(\"Social:\",marks[index][6])\n",
        "print(\"==============================\")\n",
        "print(\"    Results         \")\n",
        "print(\"==============================\")\n",
        "if(count>0):\n",
        "  print(\"faiil\")\n",
        "  print(\"failed subject:\",)\n",
        "  for i in range(len(failed_sub)):\n",
        "    if(failed_sub[i]==1):\n",
        "      print(\"Telugu\")\n",
        "    if(failed_sub[i]==2):\n",
        "      print(\"English\")\n",
        "    if(failed_sub[i]==3):\n",
        "      print(\"Hindi\")\n",
        "    if(failed_sub[i]==4):\n",
        "      print(\"Maths\")\n",
        "    if(failed_sub[i]==5):\n",
        "      print(\"Science\")\n",
        "    if(failed_sub[i]==6):\n",
        "      print(\"Social\")\n",
        "else:\n",
        "  print(\"pass\")\n",
        "  print(\"percentage:\",np.round(percentages))\n",
        "print(\"=====================================\")"
      ],
      "metadata": {
        "colab": {
          "base_uri": "https://localhost:8080/"
        },
        "id": "s42orlqkvLEf",
        "outputId": "0f0c8f36-91b3-4d61-d9b3-93fe60718d8b"
      },
      "execution_count": 8,
      "outputs": [
        {
          "output_type": "stream",
          "name": "stdout",
          "text": [
            "enter the Roll_no:101\n",
            "==========================\n",
            "     KIDERLND school     \n",
            "        score card        \n",
            "==========================\n",
            "Roll_no: 101\n",
            "Telugu: 35\n",
            "English: 98\n",
            "Hindi: 43\n",
            "Math: 65\n",
            "Science: 78\n",
            "Social: 96\n",
            "==============================\n",
            "    Results         \n",
            "==============================\n",
            "pass\n",
            "percentage: 69.0\n",
            "=====================================\n"
          ]
        }
      ]
    }
  ]
}