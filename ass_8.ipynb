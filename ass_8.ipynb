{
  "nbformat": 4,
  "nbformat_minor": 0,
  "metadata": {
    "colab": {
      "provenance": [],
      "authorship_tag": "ABX9TyMzbyJXbX2CkLG1jmRs4e4S",
      "include_colab_link": true
    },
    "kernelspec": {
      "name": "python3",
      "display_name": "Python 3"
    },
    "language_info": {
      "name": "python"
    }
  },
  "cells": [
    {
      "cell_type": "markdown",
      "metadata": {
        "id": "view-in-github",
        "colab_type": "text"
      },
      "source": [
        "<a href=\"https://colab.research.google.com/github/2205a21046/python/blob/main/ass_8.ipynb\" target=\"_parent\"><img src=\"https://colab.research.google.com/assets/colab-badge.svg\" alt=\"Open In Colab\"/></a>"
      ]
    },
    {
      "cell_type": "code",
      "execution_count": null,
      "metadata": {
        "colab": {
          "base_uri": "https://localhost:8080/"
        },
        "id": "yPvNIW7ekyIO",
        "outputId": "ba21b234-ea8d-40e7-9b22-995e7301e0a6"
      },
      "outputs": [
        {
          "output_type": "stream",
          "name": "stdout",
          "text": [
            "Qualification= ['venkat', 'B.Tech', 2006, 'Μ.Ε.', 2011, 'Ph.D', 2018]\n",
            "Experience= ['SSCE', 2007, 'infosys', '2011', 'ΑΙΤΑΜ', '2013', 'SREC', '2018']\n",
            "CA= ['venkat', 'B.Tech', 2006, 'Μ.Ε.', 2011, 'Ph.D', 2018, 'SSCE', 2007, 'infosys', '2011', 'ΑΙΤΑΜ', '2013', 'SREC', '2018']\n",
            "['venkat', 'B.Tech', 2006, 'M.E.', 2011, 'Ph.D', 2018]\n",
            "venkat\n",
            "['B.Tech', 2006, 'M.E.', 2011, 'Ph.D', 2018]\n",
            "['B.Tech', 2006, 'M.E.', 2011]\n",
            "['venkat', 'B.Tech', 2006, 'M.E.', 2011, 'Ph.D', 2018, 'venkat', 'B.Tech', 2006, 'M.E.', 2011, 'Ph.D', 2018]\n",
            "[2018, 'Ph.D', 2011, 'M.E.', 2006, 'B.Tech', 'venkat']\n",
            "Venkat birth year 1985\n",
            "dev birth year 2017\n"
          ]
        }
      ],
      "source": [
        "Qualification=['venkat', 'B.Tech', 2006, 'Μ.Ε.', 2011, 'Ph.D', 2018]\n",
        "\n",
        "Experience=['SSCE', 2007, 'infosys', '2011', 'ΑΙΤΑΜ', '2013', 'SREC', '2018']\n",
        "\n",
        "CA=Qualification+Experience\n",
        "\n",
        "print(\"Qualification=\", Qualification)\n",
        "\n",
        "print(\"Experience=\", Experience)\n",
        "\n",
        "print(\"CA=\", CA)\n",
        "\n",
        "\n",
        "\n",
        "\n",
        "\n",
        "\n",
        "\n",
        "Qualification=['venkat', 'B.Tech', 2006, 'M.E.', 2011, 'Ph.D', 2018]\n",
        "\n",
        "print(Qualification)\n",
        "\n",
        "print(Qualification[0])\n",
        "\n",
        "print(Qualification[1:])\n",
        "\n",
        "print(Qualification[1:5])\n",
        "\n",
        "print(Qualification *2)\n",
        "\n",
        "print(Qualification[::-1])\n",
        "\n",
        "\n",
        "\n",
        "\n",
        "\n",
        "\n",
        "list=['venkat', '1985']\n",
        "\n",
        "print('Venkat birth year', list[1])\n",
        "\n",
        "list[0]='dev'\n",
        "\n",
        "list[1]=2017\n",
        "\n",
        "print('dev birth year', list[1])"
      ]
    }
  ]
}